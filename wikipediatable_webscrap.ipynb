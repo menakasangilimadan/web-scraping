{
 "cells": [
  {
   "cell_type": "code",
   "execution_count": 36,
   "id": "e0325c15",
   "metadata": {},
   "outputs": [],
   "source": [
    "#Libraries required for scraping\n",
    "import requests\n",
    "import pandas as pd\n",
    "import time\n",
    "from bs4 import BeautifulSoup\n",
    "#assign the url from which the data is extracted\n",
    "url=\"https://en.wikipedia.org/wiki/List_of_districts_of_Tamil_Nadu\"\n",
    "r=requests.get(url)\n",
    "data=BeautifulSoup(r.text,\"lxml\")\n",
    "#as a first step find 'table' tag\n",
    "\n",
    "table=data.find('table',class_='wikitable')\n",
    "#find the header tag \n",
    "header=table.find_all('th')\n",
    "headings=[]\n",
    "\n",
    "for i in header:\n",
    "    tablehead=i.text\n",
    "    headings.append(tablehead.strip())\n",
    "df=pd.DataFrame(columns=headings) #store the header  in a dataframe\n",
    "\n",
    "#find all the tr tag to get the content of the table row\n",
    "\n",
    "rows=table.find_all('tr')\n",
    "for i in rows[1:]:\n",
    "    tabledata=i.find_all('td')\n",
    "    row=[tr.text.strip() for tr in tabledata]\n",
    "    l=len(df)\n",
    "    df.loc[l]=row\n",
    "#print(df)    \n",
    "#writes the dataframe to the excel file\n",
    "df.to_excel(\"district.xls\",index=False)   "
   ]
  },
  {
   "cell_type": "code",
   "execution_count": null,
   "id": "443fb60f",
   "metadata": {},
   "outputs": [],
   "source": []
  }
 ],
 "metadata": {
  "kernelspec": {
   "display_name": "Python 3 (ipykernel)",
   "language": "python",
   "name": "python3"
  },
  "language_info": {
   "codemirror_mode": {
    "name": "ipython",
    "version": 3
   },
   "file_extension": ".py",
   "mimetype": "text/x-python",
   "name": "python",
   "nbconvert_exporter": "python",
   "pygments_lexer": "ipython3",
   "version": "3.9.7"
  }
 },
 "nbformat": 4,
 "nbformat_minor": 5
}
